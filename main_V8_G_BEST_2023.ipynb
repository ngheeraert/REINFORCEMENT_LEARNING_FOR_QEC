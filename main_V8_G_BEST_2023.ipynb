{
 "cells": [
  {
   "cell_type": "code",
   "execution_count": 2,
   "metadata": {},
   "outputs": [
    {
     "name": "stderr",
     "output_type": "stream",
     "text": [
      "2023-06-25 16:05:46.579442: I tensorflow/core/platform/cpu_feature_guard.cc:182] This TensorFlow binary is optimized to use available CPU instructions in performance-critical operations.\n",
      "To enable the following instructions: AVX2 FMA, in other operations, rebuild TensorFlow with the appropriate compiler flags.\n"
     ]
    }
   ],
   "source": [
    "from quantum_simulator_EC import system\n",
    "import matplotlib.pyplot as plt\n",
    "from reinforce_keras_EC import Agent\n",
    "from copy import copy, deepcopy\n",
    "import time\n",
    "from IPython.display import clear_output\n",
    "from termcolor import colored\n",
    "\n",
    "%matplotlib inline\n",
    "%load_ext autoreload\n",
    "%autoreload 2\n"
   ]
  },
  {
   "cell_type": "code",
   "execution_count": 3,
   "metadata": {},
   "outputs": [],
   "source": [
    "s = system(1200, N=3, P=0.1)\n",
    "\n",
    "agent = Agent(alpha=0.00005,  gamma=0.95, n_actions=len( s.actions ), lambda_entr=5e-1)\n",
    "RQ_history = []\n",
    "\n",
    "#agent.load_policy('saved_model_200gates/my_model')\n",
    "#agent.policy.summary()"
   ]
  },
  {
   "cell_type": "code",
   "execution_count": 4,
   "metadata": {},
   "outputs": [
    {
     "name": "stdout",
     "output_type": "stream",
     "text": [
      "-- number_of_epochs_trained:  1\n",
      "-- sequence generation time = 1.2103496380150318\n",
      "-- epoch:  1: ....."
     ]
    },
    {
     "ename": "KeyboardInterrupt",
     "evalue": "",
     "output_type": "error",
     "traceback": [
      "\u001b[0;31m---------------------------------------------------------------------------\u001b[0m",
      "\u001b[0;31mKeyboardInterrupt\u001b[0m                         Traceback (most recent call last)",
      "Cell \u001b[0;32mIn[4], line 44\u001b[0m\n\u001b[1;32m     42\u001b[0m state \u001b[38;5;241m=\u001b[39m s\u001b[38;5;241m.\u001b[39mgenerate_net_input_state(PCA_nb)\n\u001b[1;32m     43\u001b[0m \u001b[38;5;66;03m#net_input = s.generate_net_input_FULL(PCA_nb)\u001b[39;00m\n\u001b[0;32m---> 44\u001b[0m action \u001b[38;5;241m=\u001b[39m \u001b[43magent\u001b[49m\u001b[38;5;241;43m.\u001b[39;49m\u001b[43mchoose_action\u001b[49m\u001b[43m(\u001b[49m\u001b[43m \u001b[49m\u001b[43mstate\u001b[49m\u001b[43m \u001b[49m\u001b[43m)\u001b[49m\n\u001b[1;32m     46\u001b[0m reward1, reward2 \u001b[38;5;241m=\u001b[39m s\u001b[38;5;241m.\u001b[39mapply_action(action)\n\u001b[1;32m     47\u001b[0m \u001b[38;5;66;03m#new_state = s.generate_net_input_state(PCA_nb)\u001b[39;00m\n",
      "File \u001b[0;32m~/MACHINE_LEARNING/rl_for_error_correction/code_v8/reinforce_keras_EC.py:35\u001b[0m, in \u001b[0;36mAgent.choose_action\u001b[0;34m(self, state)\u001b[0m\n\u001b[1;32m     33\u001b[0m probs \u001b[38;5;241m=\u001b[39m \u001b[38;5;28mself\u001b[39m\u001b[38;5;241m.\u001b[39mpolicy(state_tf)\n\u001b[1;32m     34\u001b[0m action_probs \u001b[38;5;241m=\u001b[39m tfp\u001b[38;5;241m.\u001b[39mdistributions\u001b[38;5;241m.\u001b[39mCategorical(probs\u001b[38;5;241m=\u001b[39mprobs)\n\u001b[0;32m---> 35\u001b[0m action \u001b[38;5;241m=\u001b[39m \u001b[43maction_probs\u001b[49m\u001b[38;5;241;43m.\u001b[39;49m\u001b[43msample\u001b[49m\u001b[43m(\u001b[49m\u001b[43m)\u001b[49m\n\u001b[1;32m     37\u001b[0m \u001b[38;5;28;01mreturn\u001b[39;00m action\u001b[38;5;241m.\u001b[39mnumpy()[\u001b[38;5;241m0\u001b[39m]\n",
      "File \u001b[0;32m~/miniconda3/lib/python3.10/site-packages/tensorflow_probability/python/distributions/distribution.py:1205\u001b[0m, in \u001b[0;36mDistribution.sample\u001b[0;34m(self, sample_shape, seed, name, **kwargs)\u001b[0m\n\u001b[1;32m   1190\u001b[0m \u001b[38;5;250m\u001b[39m\u001b[38;5;124;03m\"\"\"Generate samples of the specified shape.\u001b[39;00m\n\u001b[1;32m   1191\u001b[0m \n\u001b[1;32m   1192\u001b[0m \u001b[38;5;124;03mNote that a call to `sample()` without arguments will generate a single\u001b[39;00m\n\u001b[0;32m   (...)\u001b[0m\n\u001b[1;32m   1202\u001b[0m \u001b[38;5;124;03m  samples: a `Tensor` with prepended dimensions `sample_shape`.\u001b[39;00m\n\u001b[1;32m   1203\u001b[0m \u001b[38;5;124;03m\"\"\"\u001b[39;00m\n\u001b[1;32m   1204\u001b[0m \u001b[38;5;28;01mwith\u001b[39;00m \u001b[38;5;28mself\u001b[39m\u001b[38;5;241m.\u001b[39m_name_and_control_scope(name):\n\u001b[0;32m-> 1205\u001b[0m   \u001b[38;5;28;01mreturn\u001b[39;00m \u001b[38;5;28;43mself\u001b[39;49m\u001b[38;5;241;43m.\u001b[39;49m\u001b[43m_call_sample_n\u001b[49m\u001b[43m(\u001b[49m\u001b[43msample_shape\u001b[49m\u001b[43m,\u001b[49m\u001b[43m \u001b[49m\u001b[43mseed\u001b[49m\u001b[43m,\u001b[49m\u001b[43m \u001b[49m\u001b[38;5;241;43m*\u001b[39;49m\u001b[38;5;241;43m*\u001b[39;49m\u001b[43mkwargs\u001b[49m\u001b[43m)\u001b[49m\n",
      "File \u001b[0;32m~/miniconda3/lib/python3.10/site-packages/tensorflow_probability/python/distributions/distribution.py:1182\u001b[0m, in \u001b[0;36mDistribution._call_sample_n\u001b[0;34m(self, sample_shape, seed, **kwargs)\u001b[0m\n\u001b[1;32m   1178\u001b[0m sample_shape \u001b[38;5;241m=\u001b[39m ps\u001b[38;5;241m.\u001b[39mconvert_to_shape_tensor(\n\u001b[1;32m   1179\u001b[0m     ps\u001b[38;5;241m.\u001b[39mcast(sample_shape, tf\u001b[38;5;241m.\u001b[39mint32), name\u001b[38;5;241m=\u001b[39m\u001b[38;5;124m'\u001b[39m\u001b[38;5;124msample_shape\u001b[39m\u001b[38;5;124m'\u001b[39m)\n\u001b[1;32m   1180\u001b[0m sample_shape, n \u001b[38;5;241m=\u001b[39m \u001b[38;5;28mself\u001b[39m\u001b[38;5;241m.\u001b[39m_expand_sample_shape_to_vector(\n\u001b[1;32m   1181\u001b[0m     sample_shape, \u001b[38;5;124m'\u001b[39m\u001b[38;5;124msample_shape\u001b[39m\u001b[38;5;124m'\u001b[39m)\n\u001b[0;32m-> 1182\u001b[0m samples \u001b[38;5;241m=\u001b[39m \u001b[38;5;28;43mself\u001b[39;49m\u001b[38;5;241;43m.\u001b[39;49m\u001b[43m_sample_n\u001b[49m\u001b[43m(\u001b[49m\n\u001b[1;32m   1183\u001b[0m \u001b[43m    \u001b[49m\u001b[43mn\u001b[49m\u001b[43m,\u001b[49m\u001b[43m \u001b[49m\u001b[43mseed\u001b[49m\u001b[38;5;241;43m=\u001b[39;49m\u001b[43mseed\u001b[49m\u001b[43m(\u001b[49m\u001b[43m)\u001b[49m\u001b[43m \u001b[49m\u001b[38;5;28;43;01mif\u001b[39;49;00m\u001b[43m \u001b[49m\u001b[38;5;28;43mcallable\u001b[39;49m\u001b[43m(\u001b[49m\u001b[43mseed\u001b[49m\u001b[43m)\u001b[49m\u001b[43m \u001b[49m\u001b[38;5;28;43;01melse\u001b[39;49;00m\u001b[43m \u001b[49m\u001b[43mseed\u001b[49m\u001b[43m,\u001b[49m\u001b[43m \u001b[49m\u001b[38;5;241;43m*\u001b[39;49m\u001b[38;5;241;43m*\u001b[39;49m\u001b[43mkwargs\u001b[49m\u001b[43m)\u001b[49m\n\u001b[1;32m   1184\u001b[0m samples \u001b[38;5;241m=\u001b[39m tf\u001b[38;5;241m.\u001b[39mnest\u001b[38;5;241m.\u001b[39mmap_structure(\n\u001b[1;32m   1185\u001b[0m     \u001b[38;5;28;01mlambda\u001b[39;00m x: tf\u001b[38;5;241m.\u001b[39mreshape(x, ps\u001b[38;5;241m.\u001b[39mconcat([sample_shape, ps\u001b[38;5;241m.\u001b[39mshape(x)[\u001b[38;5;241m1\u001b[39m:]], \u001b[38;5;241m0\u001b[39m)),\n\u001b[1;32m   1186\u001b[0m     samples)\n\u001b[1;32m   1187\u001b[0m \u001b[38;5;28;01mreturn\u001b[39;00m \u001b[38;5;28mself\u001b[39m\u001b[38;5;241m.\u001b[39m_set_sample_static_shape(samples, sample_shape, \u001b[38;5;241m*\u001b[39m\u001b[38;5;241m*\u001b[39mkwargs)\n",
      "File \u001b[0;32m~/miniconda3/lib/python3.10/site-packages/tensorflow_probability/python/distributions/categorical.py:266\u001b[0m, in \u001b[0;36mCategorical._sample_n\u001b[0;34m(self, n, seed)\u001b[0m\n\u001b[1;32m    261\u001b[0m   draws \u001b[38;5;241m=\u001b[39m samplers\u001b[38;5;241m.\u001b[39mcategorical(\n\u001b[1;32m    262\u001b[0m       logits_2d, n, dtype\u001b[38;5;241m=\u001b[39msample_dtype, seed\u001b[38;5;241m=\u001b[39mseed)\n\u001b[1;32m    263\u001b[0m draws \u001b[38;5;241m=\u001b[39m tf\u001b[38;5;241m.\u001b[39mcast(draws, \u001b[38;5;28mself\u001b[39m\u001b[38;5;241m.\u001b[39mdtype)\n\u001b[1;32m    264\u001b[0m \u001b[38;5;28;01mreturn\u001b[39;00m tf\u001b[38;5;241m.\u001b[39mreshape(\n\u001b[1;32m    265\u001b[0m     tf\u001b[38;5;241m.\u001b[39mtranspose(draws),\n\u001b[0;32m--> 266\u001b[0m     shape\u001b[38;5;241m=\u001b[39mps\u001b[38;5;241m.\u001b[39mconcat([[n], \u001b[38;5;28;43mself\u001b[39;49m\u001b[38;5;241;43m.\u001b[39;49m\u001b[43m_batch_shape_tensor\u001b[49m\u001b[43m(\u001b[49m\u001b[43mlogits\u001b[49m\u001b[38;5;241;43m=\u001b[39;49m\u001b[43mlogits\u001b[49m\u001b[43m)\u001b[49m], axis\u001b[38;5;241m=\u001b[39m\u001b[38;5;241m0\u001b[39m))\n",
      "File \u001b[0;32m~/miniconda3/lib/python3.10/site-packages/tensorflow_probability/python/distributions/distribution.py:984\u001b[0m, in \u001b[0;36mDistribution._batch_shape_tensor\u001b[0;34m(self, **parameter_kwargs)\u001b[0m\n\u001b[1;32m    957\u001b[0m \u001b[38;5;250m\u001b[39m\u001b[38;5;124;03m\"\"\"Infers batch shape from parameters.\u001b[39;00m\n\u001b[1;32m    958\u001b[0m \n\u001b[1;32m    959\u001b[0m \u001b[38;5;124;03mThe overall batch shape is inferred by broadcasting the batch shapes of\u001b[39;00m\n\u001b[0;32m   (...)\u001b[0m\n\u001b[1;32m    981\u001b[0m \u001b[38;5;124;03m  batch_shape_tensor: `Tensor` broadcast batch shape of all parameters.\u001b[39;00m\n\u001b[1;32m    982\u001b[0m \u001b[38;5;124;03m\"\"\"\u001b[39;00m\n\u001b[1;32m    983\u001b[0m \u001b[38;5;28;01mtry\u001b[39;00m:\n\u001b[0;32m--> 984\u001b[0m   \u001b[38;5;28;01mreturn\u001b[39;00m \u001b[43mbatch_shape_lib\u001b[49m\u001b[38;5;241;43m.\u001b[39;49m\u001b[43minferred_batch_shape_tensor\u001b[49m\u001b[43m(\u001b[49m\n\u001b[1;32m    985\u001b[0m \u001b[43m      \u001b[49m\u001b[38;5;28;43mself\u001b[39;49m\u001b[43m,\u001b[49m\u001b[43m \u001b[49m\u001b[38;5;241;43m*\u001b[39;49m\u001b[38;5;241;43m*\u001b[39;49m\u001b[43mparameter_kwargs\u001b[49m\u001b[43m)\u001b[49m\n\u001b[1;32m    986\u001b[0m \u001b[38;5;28;01mexcept\u001b[39;00m \u001b[38;5;167;01mNotImplementedError\u001b[39;00m:\n\u001b[1;32m    987\u001b[0m   \u001b[38;5;28;01mraise\u001b[39;00m \u001b[38;5;167;01mNotImplementedError\u001b[39;00m(\u001b[38;5;124m'\u001b[39m\u001b[38;5;124mCannot compute batch shape of distribution \u001b[39m\u001b[38;5;124m'\u001b[39m\n\u001b[1;32m    988\u001b[0m                             \u001b[38;5;124m'\u001b[39m\u001b[38;5;132;01m{}\u001b[39;00m\u001b[38;5;124m: you must implement at least one of \u001b[39m\u001b[38;5;124m'\u001b[39m\n\u001b[1;32m    989\u001b[0m                             \u001b[38;5;124m'\u001b[39m\u001b[38;5;124m`_batch_shape_tensor` or \u001b[39m\u001b[38;5;124m'\u001b[39m\n\u001b[1;32m    990\u001b[0m                             \u001b[38;5;124m'\u001b[39m\u001b[38;5;124m`_parameter_properties`.\u001b[39m\u001b[38;5;124m'\u001b[39m\u001b[38;5;241m.\u001b[39mformat(\u001b[38;5;28mself\u001b[39m))\n",
      "File \u001b[0;32m~/miniconda3/lib/python3.10/site-packages/tensorflow_probability/python/internal/batch_shape_lib.py:110\u001b[0m, in \u001b[0;36minferred_batch_shape_tensor\u001b[0;34m(batch_object, bijector_x_event_ndims, **parameter_kwargs)\u001b[0m\n\u001b[1;32m     78\u001b[0m \u001b[38;5;28;01mdef\u001b[39;00m \u001b[38;5;21minferred_batch_shape_tensor\u001b[39m(batch_object,\n\u001b[1;32m     79\u001b[0m                                 bijector_x_event_ndims\u001b[38;5;241m=\u001b[39m\u001b[38;5;28;01mNone\u001b[39;00m,\n\u001b[1;32m     80\u001b[0m                                 \u001b[38;5;241m*\u001b[39m\u001b[38;5;241m*\u001b[39mparameter_kwargs):\n\u001b[1;32m     81\u001b[0m \u001b[38;5;250m  \u001b[39m\u001b[38;5;124;03m\"\"\"Infers an object's batch shape from its  parameters.\u001b[39;00m\n\u001b[1;32m     82\u001b[0m \n\u001b[1;32m     83\u001b[0m \u001b[38;5;124;03m  Each parameter contributes a batch shape of\u001b[39;00m\n\u001b[0;32m   (...)\u001b[0m\n\u001b[1;32m    108\u001b[0m \u001b[38;5;124;03m    batch_shape_tensor: `Tensor` broadcast batch shape of all parameters.\u001b[39;00m\n\u001b[1;32m    109\u001b[0m \u001b[38;5;124;03m  \"\"\"\u001b[39;00m\n\u001b[0;32m--> 110\u001b[0m   batch_shapes \u001b[38;5;241m=\u001b[39m \u001b[43mmap_fn_over_parameters_with_event_ndims\u001b[49m\u001b[43m(\u001b[49m\n\u001b[1;32m    111\u001b[0m \u001b[43m      \u001b[49m\u001b[43mbatch_object\u001b[49m\u001b[43m,\u001b[49m\n\u001b[1;32m    112\u001b[0m \u001b[43m      \u001b[49m\u001b[43mget_batch_shape_tensor_part\u001b[49m\u001b[43m,\u001b[49m\n\u001b[1;32m    113\u001b[0m \u001b[43m      \u001b[49m\u001b[43mbijector_x_event_ndims\u001b[49m\u001b[38;5;241;43m=\u001b[39;49m\u001b[43mbijector_x_event_ndims\u001b[49m\u001b[43m,\u001b[49m\n\u001b[1;32m    114\u001b[0m \u001b[43m      \u001b[49m\u001b[43mrequire_static\u001b[49m\u001b[38;5;241;43m=\u001b[39;49m\u001b[38;5;28;43;01mFalse\u001b[39;49;00m\u001b[43m,\u001b[49m\n\u001b[1;32m    115\u001b[0m \u001b[43m      \u001b[49m\u001b[38;5;241;43m*\u001b[39;49m\u001b[38;5;241;43m*\u001b[39;49m\u001b[43mparameter_kwargs\u001b[49m\u001b[43m)\u001b[49m\n\u001b[1;32m    116\u001b[0m   \u001b[38;5;28;01mreturn\u001b[39;00m functools\u001b[38;5;241m.\u001b[39mreduce(ps\u001b[38;5;241m.\u001b[39mbroadcast_shape, tf\u001b[38;5;241m.\u001b[39mnest\u001b[38;5;241m.\u001b[39mflatten(batch_shapes), [])\n",
      "File \u001b[0;32m~/miniconda3/lib/python3.10/site-packages/tensorflow_probability/python/internal/batch_shape_lib.py:367\u001b[0m, in \u001b[0;36mmap_fn_over_parameters_with_event_ndims\u001b[0;34m(batch_object, fn, bijector_x_event_ndims, require_static, **parameter_kwargs)\u001b[0m\n\u001b[1;32m    361\u001b[0m     \u001b[38;5;28;01melif\u001b[39;00m (properties\u001b[38;5;241m.\u001b[39mis_tensor\n\u001b[1;32m    362\u001b[0m           \u001b[38;5;129;01mand\u001b[39;00m \u001b[38;5;129;01mnot\u001b[39;00m tf\u001b[38;5;241m.\u001b[39mis_tensor(param)\n\u001b[1;32m    363\u001b[0m           \u001b[38;5;129;01mand\u001b[39;00m \u001b[38;5;129;01mnot\u001b[39;00m tf\u001b[38;5;241m.\u001b[39mnest\u001b[38;5;241m.\u001b[39mis_nested(param_event_ndims)):\n\u001b[1;32m    364\u001b[0m       \u001b[38;5;66;03m# As a last resort, try an explicit conversion.\u001b[39;00m\n\u001b[1;32m    365\u001b[0m       param \u001b[38;5;241m=\u001b[39m tensor_util\u001b[38;5;241m.\u001b[39mconvert_nonref_to_tensor(param, name\u001b[38;5;241m=\u001b[39mparam_name)\n\u001b[0;32m--> 367\u001b[0m   results[param_name] \u001b[38;5;241m=\u001b[39m \u001b[43mnest\u001b[49m\u001b[38;5;241;43m.\u001b[39;49m\u001b[43mmap_structure_up_to\u001b[49m\u001b[43m(\u001b[49m\n\u001b[1;32m    368\u001b[0m \u001b[43m      \u001b[49m\u001b[43mparam\u001b[49m\u001b[43m,\u001b[49m\u001b[43m \u001b[49m\u001b[43mfn\u001b[49m\u001b[43m,\u001b[49m\u001b[43m \u001b[49m\u001b[43mparam\u001b[49m\u001b[43m,\u001b[49m\u001b[43m \u001b[49m\u001b[43mparam_event_ndims\u001b[49m\u001b[43m)\u001b[49m\n\u001b[1;32m    369\u001b[0m \u001b[38;5;28;01mreturn\u001b[39;00m results\n",
      "File \u001b[0;32m~/miniconda3/lib/python3.10/site-packages/tensorflow/python/util/nest.py:1435\u001b[0m, in \u001b[0;36mmap_structure_up_to\u001b[0;34m(shallow_tree, func, *inputs, **kwargs)\u001b[0m\n\u001b[1;32m   1361\u001b[0m \u001b[38;5;129m@tf_export\u001b[39m(\u001b[38;5;124m\"\u001b[39m\u001b[38;5;124m__internal__.nest.map_structure_up_to\u001b[39m\u001b[38;5;124m\"\u001b[39m, v1\u001b[38;5;241m=\u001b[39m[])\n\u001b[1;32m   1362\u001b[0m \u001b[38;5;28;01mdef\u001b[39;00m \u001b[38;5;21mmap_structure_up_to\u001b[39m(shallow_tree, func, \u001b[38;5;241m*\u001b[39minputs, \u001b[38;5;241m*\u001b[39m\u001b[38;5;241m*\u001b[39mkwargs):\n\u001b[1;32m   1363\u001b[0m \u001b[38;5;250m  \u001b[39m\u001b[38;5;124;03m\"\"\"Applies a function or op to a number of partially flattened inputs.\u001b[39;00m\n\u001b[1;32m   1364\u001b[0m \n\u001b[1;32m   1365\u001b[0m \u001b[38;5;124;03m  The `inputs` are flattened up to `shallow_tree` before being mapped.\u001b[39;00m\n\u001b[0;32m   (...)\u001b[0m\n\u001b[1;32m   1433\u001b[0m \u001b[38;5;124;03m    `shallow_tree`.\u001b[39;00m\n\u001b[1;32m   1434\u001b[0m \u001b[38;5;124;03m  \"\"\"\u001b[39;00m\n\u001b[0;32m-> 1435\u001b[0m   \u001b[38;5;28;01mreturn\u001b[39;00m \u001b[43mmap_structure_with_tuple_paths_up_to\u001b[49m\u001b[43m(\u001b[49m\n\u001b[1;32m   1436\u001b[0m \u001b[43m      \u001b[49m\u001b[43mshallow_tree\u001b[49m\u001b[43m,\u001b[49m\n\u001b[1;32m   1437\u001b[0m \u001b[43m      \u001b[49m\u001b[38;5;28;43;01mlambda\u001b[39;49;00m\u001b[43m \u001b[49m\u001b[43m_\u001b[49m\u001b[43m,\u001b[49m\u001b[43m \u001b[49m\u001b[38;5;241;43m*\u001b[39;49m\u001b[43mvalues\u001b[49m\u001b[43m:\u001b[49m\u001b[43m \u001b[49m\u001b[43mfunc\u001b[49m\u001b[43m(\u001b[49m\u001b[38;5;241;43m*\u001b[39;49m\u001b[43mvalues\u001b[49m\u001b[43m)\u001b[49m\u001b[43m,\u001b[49m\u001b[43m  \u001b[49m\u001b[38;5;66;43;03m# Discards the path arg.\u001b[39;49;00m\n\u001b[1;32m   1438\u001b[0m \u001b[43m      \u001b[49m\u001b[38;5;241;43m*\u001b[39;49m\u001b[43minputs\u001b[49m\u001b[43m,\u001b[49m\n\u001b[1;32m   1439\u001b[0m \u001b[43m      \u001b[49m\u001b[38;5;241;43m*\u001b[39;49m\u001b[38;5;241;43m*\u001b[39;49m\u001b[43mkwargs\u001b[49m\u001b[43m)\u001b[49m\n",
      "File \u001b[0;32m~/miniconda3/lib/python3.10/site-packages/tensorflow/python/util/nest.py:1535\u001b[0m, in \u001b[0;36mmap_structure_with_tuple_paths_up_to\u001b[0;34m(shallow_tree, func, *inputs, **kwargs)\u001b[0m\n\u001b[1;32m   1526\u001b[0m flat_value_gen \u001b[38;5;241m=\u001b[39m (\n\u001b[1;32m   1527\u001b[0m     flatten_up_to(  \u001b[38;5;66;03m# pylint: disable=g-complex-comprehension\u001b[39;00m\n\u001b[1;32m   1528\u001b[0m         shallow_tree,\n\u001b[1;32m   1529\u001b[0m         input_tree,\n\u001b[1;32m   1530\u001b[0m         check_types,\n\u001b[1;32m   1531\u001b[0m         expand_composites\u001b[38;5;241m=\u001b[39mexpand_composites) \u001b[38;5;28;01mfor\u001b[39;00m input_tree \u001b[38;5;129;01min\u001b[39;00m inputs)\n\u001b[1;32m   1532\u001b[0m flat_path_gen \u001b[38;5;241m=\u001b[39m (\n\u001b[1;32m   1533\u001b[0m     path\n\u001b[1;32m   1534\u001b[0m     \u001b[38;5;28;01mfor\u001b[39;00m path, _ \u001b[38;5;129;01min\u001b[39;00m _yield_flat_up_to(shallow_tree, inputs[\u001b[38;5;241m0\u001b[39m], is_nested_fn))\n\u001b[0;32m-> 1535\u001b[0m results \u001b[38;5;241m=\u001b[39m [\n\u001b[1;32m   1536\u001b[0m     func(\u001b[38;5;241m*\u001b[39margs, \u001b[38;5;241m*\u001b[39m\u001b[38;5;241m*\u001b[39mkwargs) \u001b[38;5;28;01mfor\u001b[39;00m args \u001b[38;5;129;01min\u001b[39;00m \u001b[38;5;28mzip\u001b[39m(flat_path_gen, \u001b[38;5;241m*\u001b[39mflat_value_gen)\n\u001b[1;32m   1537\u001b[0m ]\n\u001b[1;32m   1538\u001b[0m \u001b[38;5;28;01mreturn\u001b[39;00m pack_sequence_as(structure\u001b[38;5;241m=\u001b[39mshallow_tree, flat_sequence\u001b[38;5;241m=\u001b[39mresults,\n\u001b[1;32m   1539\u001b[0m                         expand_composites\u001b[38;5;241m=\u001b[39mexpand_composites)\n",
      "File \u001b[0;32m~/miniconda3/lib/python3.10/site-packages/tensorflow/python/util/nest.py:1536\u001b[0m, in \u001b[0;36m<listcomp>\u001b[0;34m(.0)\u001b[0m\n\u001b[1;32m   1526\u001b[0m flat_value_gen \u001b[38;5;241m=\u001b[39m (\n\u001b[1;32m   1527\u001b[0m     flatten_up_to(  \u001b[38;5;66;03m# pylint: disable=g-complex-comprehension\u001b[39;00m\n\u001b[1;32m   1528\u001b[0m         shallow_tree,\n\u001b[1;32m   1529\u001b[0m         input_tree,\n\u001b[1;32m   1530\u001b[0m         check_types,\n\u001b[1;32m   1531\u001b[0m         expand_composites\u001b[38;5;241m=\u001b[39mexpand_composites) \u001b[38;5;28;01mfor\u001b[39;00m input_tree \u001b[38;5;129;01min\u001b[39;00m inputs)\n\u001b[1;32m   1532\u001b[0m flat_path_gen \u001b[38;5;241m=\u001b[39m (\n\u001b[1;32m   1533\u001b[0m     path\n\u001b[1;32m   1534\u001b[0m     \u001b[38;5;28;01mfor\u001b[39;00m path, _ \u001b[38;5;129;01min\u001b[39;00m _yield_flat_up_to(shallow_tree, inputs[\u001b[38;5;241m0\u001b[39m], is_nested_fn))\n\u001b[1;32m   1535\u001b[0m results \u001b[38;5;241m=\u001b[39m [\n\u001b[0;32m-> 1536\u001b[0m     \u001b[43mfunc\u001b[49m\u001b[43m(\u001b[49m\u001b[38;5;241;43m*\u001b[39;49m\u001b[43margs\u001b[49m\u001b[43m,\u001b[49m\u001b[43m \u001b[49m\u001b[38;5;241;43m*\u001b[39;49m\u001b[38;5;241;43m*\u001b[39;49m\u001b[43mkwargs\u001b[49m\u001b[43m)\u001b[49m \u001b[38;5;28;01mfor\u001b[39;00m args \u001b[38;5;129;01min\u001b[39;00m \u001b[38;5;28mzip\u001b[39m(flat_path_gen, \u001b[38;5;241m*\u001b[39mflat_value_gen)\n\u001b[1;32m   1537\u001b[0m ]\n\u001b[1;32m   1538\u001b[0m \u001b[38;5;28;01mreturn\u001b[39;00m pack_sequence_as(structure\u001b[38;5;241m=\u001b[39mshallow_tree, flat_sequence\u001b[38;5;241m=\u001b[39mresults,\n\u001b[1;32m   1539\u001b[0m                         expand_composites\u001b[38;5;241m=\u001b[39mexpand_composites)\n",
      "File \u001b[0;32m~/miniconda3/lib/python3.10/site-packages/tensorflow/python/util/nest.py:1437\u001b[0m, in \u001b[0;36mmap_structure_up_to.<locals>.<lambda>\u001b[0;34m(_, *values)\u001b[0m\n\u001b[1;32m   1361\u001b[0m \u001b[38;5;129m@tf_export\u001b[39m(\u001b[38;5;124m\"\u001b[39m\u001b[38;5;124m__internal__.nest.map_structure_up_to\u001b[39m\u001b[38;5;124m\"\u001b[39m, v1\u001b[38;5;241m=\u001b[39m[])\n\u001b[1;32m   1362\u001b[0m \u001b[38;5;28;01mdef\u001b[39;00m \u001b[38;5;21mmap_structure_up_to\u001b[39m(shallow_tree, func, \u001b[38;5;241m*\u001b[39minputs, \u001b[38;5;241m*\u001b[39m\u001b[38;5;241m*\u001b[39mkwargs):\n\u001b[1;32m   1363\u001b[0m \u001b[38;5;250m  \u001b[39m\u001b[38;5;124;03m\"\"\"Applies a function or op to a number of partially flattened inputs.\u001b[39;00m\n\u001b[1;32m   1364\u001b[0m \n\u001b[1;32m   1365\u001b[0m \u001b[38;5;124;03m  The `inputs` are flattened up to `shallow_tree` before being mapped.\u001b[39;00m\n\u001b[0;32m   (...)\u001b[0m\n\u001b[1;32m   1433\u001b[0m \u001b[38;5;124;03m    `shallow_tree`.\u001b[39;00m\n\u001b[1;32m   1434\u001b[0m \u001b[38;5;124;03m  \"\"\"\u001b[39;00m\n\u001b[1;32m   1435\u001b[0m   \u001b[38;5;28;01mreturn\u001b[39;00m map_structure_with_tuple_paths_up_to(\n\u001b[1;32m   1436\u001b[0m       shallow_tree,\n\u001b[0;32m-> 1437\u001b[0m       \u001b[38;5;28;01mlambda\u001b[39;00m _, \u001b[38;5;241m*\u001b[39mvalues: \u001b[43mfunc\u001b[49m\u001b[43m(\u001b[49m\u001b[38;5;241;43m*\u001b[39;49m\u001b[43mvalues\u001b[49m\u001b[43m)\u001b[49m,  \u001b[38;5;66;03m# Discards the path arg.\u001b[39;00m\n\u001b[1;32m   1438\u001b[0m       \u001b[38;5;241m*\u001b[39minputs,\n\u001b[1;32m   1439\u001b[0m       \u001b[38;5;241m*\u001b[39m\u001b[38;5;241m*\u001b[39mkwargs)\n",
      "File \u001b[0;32m~/miniconda3/lib/python3.10/site-packages/tensorflow_probability/python/internal/batch_shape_lib.py:139\u001b[0m, in \u001b[0;36mget_batch_shape_tensor_part\u001b[0;34m(x, event_ndims)\u001b[0m\n\u001b[1;32m    137\u001b[0m \u001b[38;5;28;01melse\u001b[39;00m:\n\u001b[1;32m    138\u001b[0m   base_shape \u001b[38;5;241m=\u001b[39m tf\u001b[38;5;241m.\u001b[39mshape(x)\n\u001b[0;32m--> 139\u001b[0m \u001b[38;5;28;01mreturn\u001b[39;00m \u001b[43m_truncate_shape_tensor\u001b[49m\u001b[43m(\u001b[49m\u001b[43mbase_shape\u001b[49m\u001b[43m,\u001b[49m\u001b[43m \u001b[49m\u001b[43mevent_ndims\u001b[49m\u001b[43m)\u001b[49m\n",
      "File \u001b[0;32m~/miniconda3/lib/python3.10/site-packages/tensorflow_probability/python/internal/batch_shape_lib.py:177\u001b[0m, in \u001b[0;36m_truncate_shape_tensor\u001b[0;34m(shape, rightmost_ndims_to_truncate)\u001b[0m\n\u001b[1;32m    175\u001b[0m \u001b[38;5;28;01mdef\u001b[39;00m \u001b[38;5;21m_truncate_shape_tensor\u001b[39m(shape, rightmost_ndims_to_truncate):\n\u001b[1;32m    176\u001b[0m   shape \u001b[38;5;241m=\u001b[39m ps\u001b[38;5;241m.\u001b[39mconvert_to_shape_tensor(shape, dtype_hint\u001b[38;5;241m=\u001b[39mnp\u001b[38;5;241m.\u001b[39mint32)\n\u001b[0;32m--> 177\u001b[0m   rightmost_ndims_to_truncate \u001b[38;5;241m=\u001b[39m \u001b[43mps\u001b[49m\u001b[38;5;241;43m.\u001b[39;49m\u001b[43mconvert_to_shape_tensor\u001b[49m\u001b[43m(\u001b[49m\n\u001b[1;32m    178\u001b[0m \u001b[43m      \u001b[49m\u001b[43mrightmost_ndims_to_truncate\u001b[49m\u001b[43m,\u001b[49m\u001b[43m \u001b[49m\u001b[43mdtype_hint\u001b[49m\u001b[38;5;241;43m=\u001b[39;49m\u001b[43mnp\u001b[49m\u001b[38;5;241;43m.\u001b[39;49m\u001b[43mint32\u001b[49m\u001b[43m)\u001b[49m\n\u001b[1;32m    179\u001b[0m   base_rank \u001b[38;5;241m=\u001b[39m ps\u001b[38;5;241m.\u001b[39mrank_from_shape(shape)\n\u001b[1;32m    180\u001b[0m   \u001b[38;5;28;01mreturn\u001b[39;00m shape[:(\n\u001b[1;32m    181\u001b[0m       base_rank \u001b[38;5;241m-\u001b[39m\n\u001b[1;32m    182\u001b[0m       \u001b[38;5;66;03m# Don't try to slice away more ndims than the parameter\u001b[39;00m\n\u001b[1;32m    183\u001b[0m       \u001b[38;5;66;03m# actually has, if that's fewer than `event_ndims` (i.e.,\u001b[39;00m\n\u001b[1;32m    184\u001b[0m       \u001b[38;5;66;03m# if it relies on broadcasting).\u001b[39;00m\n\u001b[1;32m    185\u001b[0m       ps\u001b[38;5;241m.\u001b[39mminimum(rightmost_ndims_to_truncate, base_rank))]\n",
      "File \u001b[0;32m~/miniconda3/lib/python3.10/site-packages/tensorflow/python/util/traceback_utils.py:150\u001b[0m, in \u001b[0;36mfilter_traceback.<locals>.error_handler\u001b[0;34m(*args, **kwargs)\u001b[0m\n\u001b[1;32m    148\u001b[0m filtered_tb \u001b[38;5;241m=\u001b[39m \u001b[38;5;28;01mNone\u001b[39;00m\n\u001b[1;32m    149\u001b[0m \u001b[38;5;28;01mtry\u001b[39;00m:\n\u001b[0;32m--> 150\u001b[0m   \u001b[38;5;28;01mreturn\u001b[39;00m \u001b[43mfn\u001b[49m\u001b[43m(\u001b[49m\u001b[38;5;241;43m*\u001b[39;49m\u001b[43margs\u001b[49m\u001b[43m,\u001b[49m\u001b[43m \u001b[49m\u001b[38;5;241;43m*\u001b[39;49m\u001b[38;5;241;43m*\u001b[39;49m\u001b[43mkwargs\u001b[49m\u001b[43m)\u001b[49m\n\u001b[1;32m    151\u001b[0m \u001b[38;5;28;01mexcept\u001b[39;00m \u001b[38;5;167;01mException\u001b[39;00m \u001b[38;5;28;01mas\u001b[39;00m e:\n\u001b[1;32m    152\u001b[0m   filtered_tb \u001b[38;5;241m=\u001b[39m _process_traceback_frames(e\u001b[38;5;241m.\u001b[39m__traceback__)\n",
      "File \u001b[0;32m~/miniconda3/lib/python3.10/site-packages/tensorflow/python/util/dispatch.py:1162\u001b[0m, in \u001b[0;36madd_dispatch_support.<locals>.decorator.<locals>.op_dispatch_handler\u001b[0;34m(*args, **kwargs)\u001b[0m\n\u001b[1;32m   1157\u001b[0m   arg_names \u001b[38;5;241m=\u001b[39m tf_inspect\u001b[38;5;241m.\u001b[39mgetargspec(dispatch_target)\u001b[38;5;241m.\u001b[39margs\n\u001b[1;32m   1158\u001b[0m   iterable_params \u001b[38;5;241m=\u001b[39m [\n\u001b[1;32m   1159\u001b[0m       (name, arg_names\u001b[38;5;241m.\u001b[39mindex(name)) \u001b[38;5;28;01mfor\u001b[39;00m name \u001b[38;5;129;01min\u001b[39;00m iterable_parameters\n\u001b[1;32m   1160\u001b[0m   ]\n\u001b[0;32m-> 1162\u001b[0m \u001b[38;5;129m@traceback_utils\u001b[39m\u001b[38;5;241m.\u001b[39mfilter_traceback\n\u001b[1;32m   1163\u001b[0m \u001b[38;5;28;01mdef\u001b[39;00m \u001b[38;5;21mop_dispatch_handler\u001b[39m(\u001b[38;5;241m*\u001b[39margs, \u001b[38;5;241m*\u001b[39m\u001b[38;5;241m*\u001b[39mkwargs):\n\u001b[1;32m   1164\u001b[0m \u001b[38;5;250m  \u001b[39m\u001b[38;5;124;03m\"\"\"Call `dispatch_target`, peforming dispatch when appropriate.\"\"\"\u001b[39;00m\n\u001b[1;32m   1166\u001b[0m   \u001b[38;5;66;03m# Type-based dispatch system (dispatch v2):\u001b[39;00m\n",
      "\u001b[0;31mKeyboardInterrupt\u001b[0m: "
     ]
    }
   ],
   "source": [
    "num_epochs = 2\n",
    "N_gates = 200\n",
    "PCA_nb = 6\n",
    "batch_size = 64\n",
    "\n",
    "agent.state_memory = []\n",
    "agent.action_memory = []\n",
    "agent.reward1_memory = []\n",
    "agent.reward2_memory = []\n",
    "\n",
    "t2=-1\n",
    "t1=0\n",
    "\n",
    "for jj in range(num_epochs):\n",
    "    \n",
    "    clear_output(wait=False)\n",
    "    print(\"-- number_of_epochs_trained: \", agent.number_of_epochs_trained )\n",
    "    print('-- sequence generation time =', (t2-t1)/batch_size  )\n",
    "    print('-- epoch: ',jj, end=': ')\n",
    "    RQs_at_end = []\n",
    "    \n",
    "    t1 = time.time()\n",
    "        \n",
    "\n",
    "    counter=0\n",
    "    for ii in range(batch_size):\n",
    "        \n",
    "        counter+=1\n",
    "        if counter >= 8:\n",
    "            print('.',end='')\n",
    "            counter=0\n",
    "            \n",
    "        seq_obsvs = []\n",
    "        seq_acts = []\n",
    "        seq_rwds1 = []\n",
    "        seq_rwds2 = []\n",
    "    \n",
    "        s.initialise_all()\n",
    "        \n",
    "        for kk in range( N_gates ):\n",
    "        \n",
    "            state = s.generate_net_input_state(PCA_nb)\n",
    "            #net_input = s.generate_net_input_FULL(PCA_nb)\n",
    "            action = agent.choose_action( state )\n",
    "            \n",
    "            reward1, reward2 = s.apply_action(action)\n",
    "            #new_state = s.generate_net_input_state(PCA_nb)\n",
    "            \n",
    "            seq_obsvs.append( state )\n",
    "            seq_acts.append( action )\n",
    "            seq_rwds1.append( reward1 )\n",
    "            seq_rwds2.append( reward2 )\n",
    "            \n",
    "            s.time_evolve()\n",
    "            s.last_action = action\n",
    "            \n",
    "        \n",
    "        agent.store_transition(seq_obsvs, seq_acts, seq_rwds1, seq_rwds2)\n",
    "        RQs_at_end.append( s.RQ() )\n",
    "        \n",
    "    t2 = time.time()\n",
    "    \n",
    "    RQ_history.append( np.array(RQs_at_end).mean() )\n",
    "    \n",
    "    print(\"|\", end='')\n",
    "    agent.learn()\n",
    "    print(\"|\")\n",
    "\n",
    "    "
   ]
  },
  {
   "cell_type": "code",
   "execution_count": 4,
   "metadata": {},
   "outputs": [
    {
     "data": {
      "image/png": "[encoded data removed]",
      "text/plain": [
       "<Figure size 432x288 with 1 Axes>"
      ]
     },
     "metadata": {
      "needs_background": "light"
     },
     "output_type": "display_data"
    }
   ],
   "source": [
    "plt.plot(RQ_history)\n",
    "plt.show()"
   ]
  },
  {
   "cell_type": "code",
   "execution_count": 65,
   "metadata": {},
   "outputs": [],
   "source": [
    "!mkdir -p saved_model_200gates"
   ]
  },
  {
   "cell_type": "code",
   "execution_count": 53,
   "metadata": {},
   "outputs": [
    {
     "name": "stdout",
     "output_type": "stream",
     "text": [
      "WARNING:tensorflow:From /Users/nicolas/miniconda3/envs/tf_20_env/lib/python3.7/site-packages/tensorflow/python/training/tracking/tracking.py:111: Model.state_updates (from tensorflow.python.keras.engine.training) is deprecated and will be removed in a future version.\n",
      "Instructions for updating:\n",
      "This property should not be used in TensorFlow 2.0, as updates are applied automatically.\n",
      "WARNING:tensorflow:From /Users/nicolas/miniconda3/envs/tf_20_env/lib/python3.7/site-packages/tensorflow/python/training/tracking/tracking.py:111: Layer.updates (from tensorflow.python.keras.engine.base_layer) is deprecated and will be removed in a future version.\n",
      "Instructions for updating:\n",
      "This property should not be used in TensorFlow 2.0, as updates are applied automatically.\n",
      "INFO:tensorflow:Assets written to: saved_models/my_model_N=3_200gates_V8_entr5e-1_al0.00005/assets\n",
      "Model: \"policy_gradient_network\"\n",
      "_________________________________________________________________\n",
      "Layer (type)                 Output Shape              Param #   \n",
      "=================================================================\n",
      "dense (Dense)                multiple                  121200    \n",
      "_________________________________________________________________\n",
      "dense_1 (Dense)              multiple                  90300     \n",
      "_________________________________________________________________\n",
      "dense_2 (Dense)              multiple                  3913      \n",
      "=================================================================\n",
      "Total params: 215,413\n",
      "Trainable params: 215,413\n",
      "Non-trainable params: 0\n",
      "_________________________________________________________________\n"
     ]
    }
   ],
   "source": [
    "agent.policy.save('saved_models/my_model_N=3_200gates_V8_entr5e-1_al0.00005')\n",
    "agent.policy.summary()"
   ]
  },
  {
   "cell_type": "code",
   "execution_count": 52,
   "metadata": {},
   "outputs": [
    {
     "name": "stdout",
     "output_type": "stream",
     "text": [
      "-- number_of_epochs_trained:  811\n",
      "-- sequence generation time = -1.2701168060302734\n",
      "-- epoch= 0: . \n",
      "*******************************************************\n",
      "Q0:  \u001b[34mC \u001b[0m\u001b[34mC \u001b[0mF - F - - F F F F F - F F F - - F - F F F F F - F - - F F F - - F F - F - F \u001b[34mC \u001b[0m\u001b[34mC \u001b[0m- - F F F F - F - F F F - F F F F F F F - F F - F F F F F F F - - - F F - F - F - - \u001b[34mC \u001b[0m- - F - - - \u001b[34mC \u001b[0mF F F F - - F - - F - F F F - F - F F - F F F F - F - \u001b[34mC \u001b[0m\u001b[34mC \u001b[0mF - F F F - F - F F F F - F F F - F - F - F F F F F F - F - F F - F F F F F F F F F - F - - F F - F F F F F F F F - F - F F - - F - - - - F F - - F F - - F F \n",
      "Q1:  \u001b[34mX \u001b[0m- - - - - - - - - - - F - - - - - - - - - - - - F - F F - - - F - - - - - F - - - - - - - - - - - F - - - F - - - - - - - - - - - - - - - - - - F F - - - - - - - - F - F F - F - F - - - - - - - - F F - F - - - F - F - - - - - - - F - F - - - F - - - F - - - - - - F - - - F - F - F - - - - - - F - - - - F - - - - - - - - - - - - F - - - - - - - - - - - - - - - - F - - F - F - - - - - - - F - - - \n",
      "Q2:  - \u001b[34mX \u001b[0m- F - F F - - - - - - - - - F F - F - - - - - - - - - - - - - F - - F - - - \u001b[34mX \u001b[0m\u001b[34mX \u001b[0mF F - - - - F - - - - - - - - - - - - - F - - F - - - - - - - - - F - - F - F - F - \u001b[34mX \u001b[0m- - - - F - \u001b[34mX \u001b[0m- - - - F F - - - - - - - - - - - - - F - - - - - - - \u001b[34mX \u001b[0m\u001b[34mX \u001b[0m- - - - - - - F - - - - - - - - - - - - - - - - - - - - - F - - - - - - - - - - - - F - F - - - F - - - - - - - - F - F - - - F - - F - F - - F F - - - F - - \n",
      "*******************************************************\n",
      " \n"
     ]
    }
   ],
   "source": [
    "score_history_TEST = []\n",
    "RQ_history_TEST = []\n",
    "\n",
    "num_epochs = 1\n",
    "N_gates = 200\n",
    "PCA_nb = 6\n",
    "batch_size = 1\n",
    "\n",
    "for jj in range(num_epochs):\n",
    "    \n",
    "    qb =['','','']\n",
    "    clear_output(wait=False)\n",
    "    print(\"-- number_of_epochs_trained: \", agent.number_of_epochs_trained )\n",
    "    print('-- sequence generation time =', (t2-t1)/batch_size  )\n",
    "    print('-- epoch=',jj, end=': ')\n",
    "    RQs_at_end = []\n",
    "    \n",
    "    for ii in range(batch_size):\n",
    "        \n",
    "        print('.',end='')\n",
    "    \n",
    "        s.initialise_all()\n",
    "        \n",
    "        for kk in range( N_gates ):\n",
    "        \n",
    "            state = s.generate_net_input_state(PCA_nb)\n",
    "            #net_input = s.generate_net_input_FULL(PCA_nb)\n",
    "            action = agent.choose_action( state )\n",
    "            a_type = s.get_action_type(action)\n",
    "            \n",
    "            reward1, reward2 = s.apply_action(action)\n",
    "            \n",
    "            s.time_evolve()\n",
    "            s.last_action = action\n",
    "            \n",
    "            a_type = s.get_action_type(action)\n",
    "            if a_type=='IDLE':\n",
    "                for j in range(s.N_qubits):\n",
    "                    qb[j]+='- '\n",
    "            if a_type=='CNOT':\n",
    "                qb1 = s.cnot_pairs[s.actions[action]][0]\n",
    "                qb2 = s.cnot_pairs[s.actions[action]][1]\n",
    "                qb[qb1]+=colored('C ', 'blue')\n",
    "                qb[qb2]+=colored('X ', 'blue')\n",
    "                for j in range(s.N_qubits):\n",
    "                    if (j != qb1) and (j != qb2):\n",
    "                        qb[j]+='- '\n",
    "            if a_type=='BITFLIP':\n",
    "                qb[ s.actions[action] ]+='F '\n",
    "                for j in range(s.N_qubits):\n",
    "                    if (j != s.actions[action]):\n",
    "                        qb[j]+='- '\n",
    "            if a_type=='ZMEASUREMENT':\n",
    "                qb[s.actions[action]]+=colored('M ', 'red')\n",
    "                for j in range(s.N_qubits):\n",
    "                    if (j != s.actions[action]):\n",
    "                        qb[j]+='- '\n",
    "            \n",
    "        \n",
    "        #agent.store_transition(seq_obsvs, seq_acts, seq_rwds1, seq_rwds2)\n",
    "        RQs_at_end.append( s.RQ() )\n",
    "        print(\" \")\n",
    "        print(\"*******************************************************\")\n",
    "        print(\"Q0: \", qb[0])\n",
    "        print(\"Q1: \", qb[1])\n",
    "        print(\"Q2: \", qb[2])\n",
    "        print(\"*******************************************************\")\n",
    "        print(\" \")\n",
    "        \n",
    "    RQ_history_TEST.append( np.array(RQs_at_end).mean() )\n",
    "\n",
    "\n"
   ]
  },
  {
   "cell_type": "code",
   "execution_count": 72,
   "metadata": {},
   "outputs": [
    {
     "name": "stdout",
     "output_type": "stream",
     "text": [
      "epoch= 9: .||\n"
     ]
    }
   ],
   "source": [
    "num_epochs = 10\n",
    "N_gates = 200\n",
    "batch_size = 1\n",
    "score_history_idle = []\n",
    "RQ_history_idle = []\n",
    "\n",
    "for jj in range(num_epochs):\n",
    "    \n",
    "    clear_output(wait=False)\n",
    "    print('epoch=',jj, end=': ')\n",
    "    RQs_at_end_idle = []\n",
    "    scores_idle=[]\n",
    "        \n",
    "    for ii in range(batch_size):\n",
    "        \n",
    "        print('.',end='')\n",
    "        score_idle=0\n",
    "    \n",
    "    \n",
    "        s.initialise_rho_mats()\n",
    "        for kk in range( N_gates ):\n",
    "        \n",
    "            reward1, reward2 = s.apply_action(0)\n",
    "            #t2b = time.time()\n",
    "            \n",
    "            score_idle += reward1+reward2 \n",
    "            \n",
    "            s.time_evolve()\n",
    "        \n",
    "        scores_idle.append( score )\n",
    "        RQs_at_end_idle.append( s.RQ() )\n",
    "    \n",
    "    score_history_idle.append( np.array(scores_idle).mean() )\n",
    "    RQ_history_idle.append( np.array(RQs_at_end_idle).mean() )\n",
    "    \n",
    "    print(\"|\", end='')\n",
    "    print(\"|\")"
   ]
  },
  {
   "cell_type": "code",
   "execution_count": 47,
   "metadata": {},
   "outputs": [
    {
     "data": {
      "image/png": "[encoded data removed]",
      "text/plain": [
       "<Figure size 432x288 with 1 Axes>"
      ]
     },
     "metadata": {
      "needs_background": "light"
     },
     "output_type": "display_data"
    },
    {
     "data": {
      "image/png": "[encoded data removed]",
      "text/plain": [
       "<Figure size 432x288 with 1 Axes>"
      ]
     },
     "metadata": {
      "needs_background": "light"
     },
     "output_type": "display_data"
    }
   ],
   "source": [
    "plt.plot(score_history_idle)\n",
    "plt.show()\n",
    "plt.plot(RQ_history_idle)\n",
    "plt.show()"
   ]
  },
  {
   "cell_type": "code",
   "execution_count": 13,
   "metadata": {},
   "outputs": [
    {
     "data": {
      "text/plain": [
       "[None, 0, 1, 2, 3, 4, 5, 0, 1, 2, 0, 1, 2]"
      ]
     },
     "execution_count": 13,
     "metadata": {},
     "output_type": "execute_result"
    }
   ],
   "source": [
    "s.actions"
   ]
  },
  {
   "cell_type": "code",
   "execution_count": null,
   "metadata": {},
   "outputs": [],
   "source": []
  }
 ],
 "metadata": {
  "kernelspec": {
   "display_name": "Python 3 (ipykernel)",
   "language": "python",
   "name": "python3"
  },
  "language_info": {
   "codemirror_mode": {
    "name": "ipython",
    "version": 3
   },
   "file_extension": ".py",
   "mimetype": "text/x-python",
   "name": "python",
   "nbconvert_exporter": "python",
   "pygments_lexer": "ipython3",
   "version": "3.10.10"
  }
 },
 "nbformat": 4,
 "nbformat_minor": 4
}
